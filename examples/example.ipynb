{
 "cells": [
  {
   "cell_type": "code",
   "execution_count": 2,
   "metadata": {},
   "outputs": [
    {
     "ename": "ModuleNotFoundError",
     "evalue": "No module named 'sklearn'",
     "output_type": "error",
     "traceback": [
      "\u001b[31m---------------------------------------------------------------------------\u001b[39m",
      "\u001b[31mModuleNotFoundError\u001b[39m                       Traceback (most recent call last)",
      "\u001b[36mCell\u001b[39m\u001b[36m \u001b[39m\u001b[32mIn[2]\u001b[39m\u001b[32m, line 3\u001b[39m\n\u001b[32m      1\u001b[39m \u001b[38;5;28;01mimport\u001b[39;00m\u001b[38;5;250m \u001b[39m\u001b[34;01mpandas\u001b[39;00m\u001b[38;5;250m \u001b[39m\u001b[38;5;28;01mas\u001b[39;00m\u001b[38;5;250m \u001b[39m\u001b[34;01mpd\u001b[39;00m\n\u001b[32m      2\u001b[39m \u001b[38;5;28;01mimport\u001b[39;00m\u001b[38;5;250m \u001b[39m\u001b[34;01mnumpy\u001b[39;00m\u001b[38;5;250m \u001b[39m\u001b[38;5;28;01mas\u001b[39;00m\u001b[38;5;250m \u001b[39m\u001b[34;01mnp\u001b[39;00m\n\u001b[32m----> \u001b[39m\u001b[32m3\u001b[39m \u001b[38;5;28;01mimport\u001b[39;00m\u001b[38;5;250m \u001b[39m\u001b[34;01marimafd\u001b[39;00m\u001b[38;5;250m \u001b[39m\u001b[38;5;28;01mas\u001b[39;00m\u001b[38;5;250m \u001b[39m\u001b[34;01moa\u001b[39;00m\n\u001b[32m      5\u001b[39m my_array = np.random.normal(size=\u001b[32m1000\u001b[39m) \u001b[38;5;66;03m# init array\u001b[39;00m\n\u001b[32m      6\u001b[39m my_array[-\u001b[32m3\u001b[39m] = \u001b[32m1000\u001b[39m \u001b[38;5;66;03m# init anomaly\u001b[39;00m\n",
      "\u001b[36mFile \u001b[39m\u001b[32me:\\Rough\\arimafd_niya_tempRepo\\.venv\\Lib\\site-packages\\arimafd\\__init__.py:1\u001b[39m\n\u001b[32m----> \u001b[39m\u001b[32m1\u001b[39m \u001b[38;5;28;01mfrom\u001b[39;00m\u001b[38;5;250m \u001b[39m\u001b[34;01m.\u001b[39;00m\u001b[34;01mdiff_integ\u001b[39;00m\u001b[38;5;250m \u001b[39m\u001b[38;5;28;01mimport\u001b[39;00m diff_integ\n\u001b[32m      2\u001b[39m \u001b[38;5;28;01mfrom\u001b[39;00m\u001b[38;5;250m \u001b[39m\u001b[34;01m.\u001b[39;00m\u001b[34;01mfind_best_model\u001b[39;00m\u001b[38;5;250m \u001b[39m\u001b[38;5;28;01mimport\u001b[39;00m find_best_model\n\u001b[32m      3\u001b[39m \u001b[38;5;28;01mfrom\u001b[39;00m\u001b[38;5;250m \u001b[39m\u001b[34;01m.\u001b[39;00m\u001b[34;01mtanh\u001b[39;00m\u001b[38;5;250m \u001b[39m\u001b[38;5;28;01mimport\u001b[39;00m Anomaly_detection, online_tanh\n",
      "\u001b[36mFile \u001b[39m\u001b[32me:\\Rough\\arimafd_niya_tempRepo\\.venv\\Lib\\site-packages\\arimafd\\diff_integ.py:3\u001b[39m\n\u001b[32m      1\u001b[39m \u001b[38;5;28;01mimport\u001b[39;00m\u001b[38;5;250m \u001b[39m\u001b[34;01mnumpy\u001b[39;00m\u001b[38;5;250m \u001b[39m\u001b[38;5;28;01mas\u001b[39;00m\u001b[38;5;250m \u001b[39m\u001b[34;01mnp\u001b[39;00m\n\u001b[32m      2\u001b[39m \u001b[38;5;28;01mimport\u001b[39;00m\u001b[38;5;250m \u001b[39m\u001b[34;01mpandas\u001b[39;00m\u001b[38;5;250m \u001b[39m\u001b[38;5;28;01mas\u001b[39;00m\u001b[38;5;250m \u001b[39m\u001b[34;01mpd\u001b[39;00m\n\u001b[32m----> \u001b[39m\u001b[32m3\u001b[39m \u001b[38;5;28;01mfrom\u001b[39;00m\u001b[38;5;250m \u001b[39m\u001b[34;01msklearn\u001b[39;00m\u001b[34;01m.\u001b[39;00m\u001b[34;01mmetrics\u001b[39;00m\u001b[38;5;250m \u001b[39m\u001b[38;5;28;01mimport\u001b[39;00m mean_absolute_error\n\u001b[32m      4\u001b[39m \u001b[38;5;28;01mfrom\u001b[39;00m\u001b[38;5;250m \u001b[39m\u001b[34;01mstatsmodels\u001b[39;00m\u001b[34;01m.\u001b[39;00m\u001b[34;01mtsa\u001b[39;00m\u001b[34;01m.\u001b[39;00m\u001b[34;01mar_model\u001b[39;00m\u001b[38;5;250m \u001b[39m\u001b[38;5;28;01mimport\u001b[39;00m AR\n\u001b[32m      5\u001b[39m \u001b[38;5;28;01mimport\u001b[39;00m\u001b[38;5;250m \u001b[39m\u001b[34;01mstatsmodels\u001b[39;00m\u001b[34;01m.\u001b[39;00m\u001b[34;01mapi\u001b[39;00m\u001b[38;5;250m \u001b[39m\u001b[38;5;28;01mas\u001b[39;00m\u001b[38;5;250m \u001b[39m\u001b[34;01msm\u001b[39;00m\n",
      "\u001b[31mModuleNotFoundError\u001b[39m: No module named 'sklearn'"
     ]
    }
   ],
   "source": [
    "import pandas as pd\n",
    "import numpy as np\n",
    "import arimafd as oa\n",
    "\n",
    "my_array = np.random.normal(size=1000) # init array\n",
    "my_array[-3] = 1000 # init anomaly\n",
    "ts = pd.DataFrame(my_array,\n",
    "                  index=pd.date_range(start='01-01-2000',\n",
    "                                      periods=1000,\n",
    "                                      freq='H'))\n",
    "\n",
    "my_arima = oa.Arima_anomaly_detection(ar_order=3)\n",
    "my_arima.fit(ts[:500])\n",
    "ts_anomaly = my_arima.predict(ts[500:])\n",
    "\n",
    "\n",
    "# or you can use for streaming:\n",
    "# bin_metric = []\n",
    "# for i in range(len(df)):\n",
    "#     bin_metric.append(my_arima.predict(df[i:i+1]))\n",
    "# bin_metric = pd.concat(bin_metric)\n",
    "# bin_metric\n",
    "\n",
    "# for evaluating results you can use https://tsad.readthedocs.io/en/latest/Evaluating.html \n",
    "ts_anomaly"
   ]
  },
  {
   "cell_type": "code",
   "execution_count": 4,
   "metadata": {},
   "outputs": [
    {
     "name": "stdout",
     "output_type": "stream",
     "text": [
      "Time seconds: 1.6653633117675781\n"
     ]
    },
    {
     "data": {
      "text/plain": [
       "2000-01-01 03:00:00    0\n",
       "2000-01-01 04:00:00    0\n",
       "2000-01-01 05:00:00    0\n",
       "2000-01-01 06:00:00    0\n",
       "2000-01-01 07:00:00    0\n",
       "                      ..\n",
       "2000-02-11 11:00:00    0\n",
       "2000-02-11 12:00:00    0\n",
       "2000-02-11 13:00:00    0\n",
       "2000-02-11 14:00:00    1\n",
       "2000-02-11 15:00:00    1\n",
       "Freq: H, Length: 997, dtype: int32"
      ]
     },
     "execution_count": 4,
     "metadata": {},
     "output_type": "execute_result"
    }
   ],
   "source": [
    "my_array = np.random.normal(size=1000) # init array\n",
    "my_array[-3] = 1000 # init anomaly\n",
    "ts = pd.DataFrame(my_array,\n",
    "                  index=pd.date_range(start='01-01-2000',\n",
    "                                      periods=1000,\n",
    "                                      freq='H'))\n",
    "ad = oa.anomaly_detection(ts) #init anomaly detection algorithm\n",
    "ad.generate_tensor(ar_order=3) #it compute weights of ARIMA on history \n",
    "ts_anomaly = ad.proc_tensor() #processing of weights. \n",
    "# ad.ebeluate_nab() # function for evaluating results of algorithms\n",
    "ts_anomaly"
   ]
  },
  {
   "cell_type": "code",
   "execution_count": null,
   "metadata": {},
   "outputs": [],
   "source": []
  }
 ],
 "metadata": {
  "kernelspec": {
   "display_name": ".venv",
   "language": "python",
   "name": "python3"
  },
  "language_info": {
   "codemirror_mode": {
    "name": "ipython",
    "version": 3
   },
   "file_extension": ".py",
   "mimetype": "text/x-python",
   "name": "python",
   "nbconvert_exporter": "python",
   "pygments_lexer": "ipython3",
   "version": "3.11.11"
  },
  "toc": {
   "base_numbering": 1,
   "nav_menu": {},
   "number_sections": true,
   "sideBar": true,
   "skip_h1_title": false,
   "title_cell": "Table of Contents",
   "title_sidebar": "Contents",
   "toc_cell": false,
   "toc_position": {},
   "toc_section_display": true,
   "toc_window_display": false
  }
 },
 "nbformat": 4,
 "nbformat_minor": 4
}
